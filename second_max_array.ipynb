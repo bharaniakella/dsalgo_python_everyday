{
  "nbformat": 4,
  "nbformat_minor": 0,
  "metadata": {
    "colab": {
      "provenance": [],
      "authorship_tag": "ABX9TyOaqrbfKyx5squmHR1Y8X1/",
      "include_colab_link": true
    },
    "kernelspec": {
      "name": "python3",
      "display_name": "Python 3"
    },
    "language_info": {
      "name": "python"
    }
  },
  "cells": [
    {
      "cell_type": "markdown",
      "metadata": {
        "id": "view-in-github",
        "colab_type": "text"
      },
      "source": [
        "<a href=\"https://colab.research.google.com/github/bharaniakella/dsalgo_python_everyday/blob/main/second_max_array.ipynb\" target=\"_parent\"><img src=\"https://colab.research.google.com/assets/colab-badge.svg\" alt=\"Open In Colab\"/></a>"
      ]
    },
    {
      "cell_type": "code",
      "execution_count": 23,
      "metadata": {
        "id": "auIeiS6_tp85"
      },
      "outputs": [],
      "source": [
        "import numpy as np\n",
        "\n",
        "arr=np.array([7,5,3,10,4,8,2])\n",
        "\n",
        "def second_max(arr):\n",
        "  max=arr[0]\n",
        "  sm=-1\n",
        "  for i in range(1,len(arr)):\n",
        "    if(arr[i]>max):\n",
        "      sm=max\n",
        "      max=arr[i]\n",
        "    elif(arr[i]>sm):\n",
        "      sm=arr[i]\n",
        "  return sm\n"
      ]
    },
    {
      "cell_type": "code",
      "source": [
        "second_max(arr)"
      ],
      "metadata": {
        "colab": {
          "base_uri": "https://localhost:8080/"
        },
        "id": "h0y8FeoQuM0J",
        "outputId": "418b8d41-178a-49fb-faf6-6c81e3084a16"
      },
      "execution_count": 24,
      "outputs": [
        {
          "output_type": "execute_result",
          "data": {
            "text/plain": [
              "8"
            ]
          },
          "metadata": {},
          "execution_count": 24
        }
      ]
    },
    {
      "cell_type": "code",
      "source": [],
      "metadata": {
        "id": "n2OarS0AuPh-"
      },
      "execution_count": null,
      "outputs": []
    }
  ]
}