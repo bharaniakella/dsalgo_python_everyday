{
  "nbformat": 4,
  "nbformat_minor": 0,
  "metadata": {
    "colab": {
      "provenance": [],
      "authorship_tag": "ABX9TyNjmTjwLc/LaeG8UWjsON+P",
      "include_colab_link": true
    },
    "kernelspec": {
      "name": "python3",
      "display_name": "Python 3"
    },
    "language_info": {
      "name": "python"
    }
  },
  "cells": [
    {
      "cell_type": "markdown",
      "metadata": {
        "id": "view-in-github",
        "colab_type": "text"
      },
      "source": [
        "<a href=\"https://colab.research.google.com/github/bharaniakella/dsalgo_python_everyday/blob/main/binary_search_iterative.ipynb\" target=\"_parent\"><img src=\"https://colab.research.google.com/assets/colab-badge.svg\" alt=\"Open In Colab\"/></a>"
      ]
    },
    {
      "cell_type": "code",
      "execution_count": 12,
      "metadata": {
        "id": "JFOBCL5fpZtB"
      },
      "outputs": [],
      "source": [
        "import numpy as np\n",
        "\n",
        "arr=np.array([1,2,3,4,5,6,7])\n",
        "\n",
        "def bin_search(arr,target):\n",
        "  start=0\n",
        "  end=len(arr)-1\n",
        "  while(start<=end):\n",
        "    mid=end-(end-start)//2\n",
        "    if(arr[mid]<target):\n",
        "      start=mid+1\n",
        "    elif(arr[mid]>target):\n",
        "      end=mid-1\n",
        "    elif(arr[mid]==target):\n",
        "      return mid\n",
        "  return -1"
      ]
    },
    {
      "cell_type": "code",
      "source": [
        "bin_search(arr,10)"
      ],
      "metadata": {
        "colab": {
          "base_uri": "https://localhost:8080/"
        },
        "id": "CrZnfmrirHJs",
        "outputId": "3e9e971e-65ea-4a13-e736-7159ce94bf7b"
      },
      "execution_count": 14,
      "outputs": [
        {
          "output_type": "execute_result",
          "data": {
            "text/plain": [
              "-1"
            ]
          },
          "metadata": {},
          "execution_count": 14
        }
      ]
    },
    {
      "cell_type": "code",
      "source": [],
      "metadata": {
        "id": "s6VZbfU-r-JM"
      },
      "execution_count": null,
      "outputs": []
    }
  ]
}