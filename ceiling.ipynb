{
  "nbformat": 4,
  "nbformat_minor": 0,
  "metadata": {
    "colab": {
      "provenance": [],
      "authorship_tag": "ABX9TyPqvhmk15i+aIrWZ6DD905G",
      "include_colab_link": true
    },
    "kernelspec": {
      "name": "python3",
      "display_name": "Python 3"
    },
    "language_info": {
      "name": "python"
    }
  },
  "cells": [
    {
      "cell_type": "markdown",
      "metadata": {
        "id": "view-in-github",
        "colab_type": "text"
      },
      "source": [
        "<a href=\"https://colab.research.google.com/github/bharaniakella/dsalgo_python_everyday/blob/main/ceiling.ipynb\" target=\"_parent\"><img src=\"https://colab.research.google.com/assets/colab-badge.svg\" alt=\"Open In Colab\"/></a>"
      ]
    },
    {
      "cell_type": "code",
      "execution_count": 9,
      "metadata": {
        "id": "0Y6-XGaoDlrq"
      },
      "outputs": [],
      "source": [
        "import numpy as np\n",
        "arr=np.array([3, 4, 4, 7, 8, 10])\n",
        "\n",
        "def find_ceil(arr,target):\n",
        "  start=0\n",
        "  end=len(arr)-1\n",
        "  result=len(arr)\n",
        "  while(start<=end):\n",
        "    mid=end-(end-start)//2\n",
        "    if(arr[mid]>=target):\n",
        "      result=arr[mid]\n",
        "      end=mid-1\n",
        "    else:\n",
        "      start=mid+1\n",
        "  return result"
      ]
    },
    {
      "cell_type": "code",
      "source": [
        "find_ceil(arr,100)"
      ],
      "metadata": {
        "colab": {
          "base_uri": "https://localhost:8080/"
        },
        "id": "-IqafX9MEEdR",
        "outputId": "fb38c980-5393-4908-9d30-270e632704ee"
      },
      "execution_count": 10,
      "outputs": [
        {
          "output_type": "execute_result",
          "data": {
            "text/plain": [
              "6"
            ]
          },
          "metadata": {},
          "execution_count": 10
        }
      ]
    },
    {
      "cell_type": "code",
      "source": [],
      "metadata": {
        "id": "7RXzSudWEPkc"
      },
      "execution_count": null,
      "outputs": []
    }
  ]
}