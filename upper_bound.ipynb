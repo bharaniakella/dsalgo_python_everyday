{
  "nbformat": 4,
  "nbformat_minor": 0,
  "metadata": {
    "colab": {
      "provenance": [],
      "authorship_tag": "ABX9TyMQgNVqYOvgSm5FMogqmbK/",
      "include_colab_link": true
    },
    "kernelspec": {
      "name": "python3",
      "display_name": "Python 3"
    },
    "language_info": {
      "name": "python"
    }
  },
  "cells": [
    {
      "cell_type": "markdown",
      "metadata": {
        "id": "view-in-github",
        "colab_type": "text"
      },
      "source": [
        "<a href=\"https://colab.research.google.com/github/bharaniakella/dsalgo_python_everyday/blob/main/upper_bound.ipynb\" target=\"_parent\"><img src=\"https://colab.research.google.com/assets/colab-badge.svg\" alt=\"Open In Colab\"/></a>"
      ]
    },
    {
      "cell_type": "code",
      "execution_count": 1,
      "metadata": {
        "id": "XlvM4grRCc8o"
      },
      "outputs": [],
      "source": [
        "import numpy as np\n",
        "\n",
        "arr=np.array([2,4,6,9,15,25,32])\n",
        "\n",
        "def upper_bound(arr,target):\n",
        "  start=0\n",
        "  end=len(arr)-1\n",
        "  result=-1\n",
        "  while(start<=end):\n",
        "    mid=end-(end-start)//2\n",
        "    if(arr[mid]>target):\n",
        "      result=mid\n",
        "      end=mid-1\n",
        "    else:\n",
        "      start=mid+1\n",
        "  return result"
      ]
    },
    {
      "cell_type": "code",
      "source": [
        "upper_bound(arr,32)"
      ],
      "metadata": {
        "colab": {
          "base_uri": "https://localhost:8080/"
        },
        "id": "MEl-65muDL0C",
        "outputId": "a10009f2-2efd-4b39-b8f7-4517d87dccd3"
      },
      "execution_count": 7,
      "outputs": [
        {
          "output_type": "execute_result",
          "data": {
            "text/plain": [
              "-1"
            ]
          },
          "metadata": {},
          "execution_count": 7
        }
      ]
    },
    {
      "cell_type": "code",
      "source": [],
      "metadata": {
        "id": "gljuQKMrDPJX"
      },
      "execution_count": null,
      "outputs": []
    }
  ]
}