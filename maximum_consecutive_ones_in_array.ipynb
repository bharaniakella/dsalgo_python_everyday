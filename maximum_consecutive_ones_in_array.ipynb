{
  "nbformat": 4,
  "nbformat_minor": 0,
  "metadata": {
    "colab": {
      "provenance": [],
      "authorship_tag": "ABX9TyPCxBe7f3ruoy73ZWdOVCvb",
      "include_colab_link": true
    },
    "kernelspec": {
      "name": "python3",
      "display_name": "Python 3"
    },
    "language_info": {
      "name": "python"
    }
  },
  "cells": [
    {
      "cell_type": "markdown",
      "metadata": {
        "id": "view-in-github",
        "colab_type": "text"
      },
      "source": [
        "<a href=\"https://colab.research.google.com/github/bharaniakella/dsalgo_python_everyday/blob/main/maximum_consecutive_ones_in_array.ipynb\" target=\"_parent\"><img src=\"https://colab.research.google.com/assets/colab-badge.svg\" alt=\"Open In Colab\"/></a>"
      ]
    },
    {
      "cell_type": "code",
      "execution_count": 3,
      "metadata": {
        "id": "u8KdTJUzK6xu"
      },
      "outputs": [],
      "source": [
        "import numpy as np\n",
        "\n",
        "arr=np.array([1, 0, 1, 1, 0, 1,0,0,1,1,1,1,0,1,1,1])\n",
        "\n",
        "def max_consecutive_ones(arr):\n",
        "  sum=0\n",
        "  result=0\n",
        "\n",
        "  for i in range(len(arr)):\n",
        "    if(arr[i]==1):\n",
        "      sum=sum+1\n",
        "      result=max(sum,result)\n",
        "    else:\n",
        "      sum=0\n",
        "  return result\n",
        "\n"
      ]
    },
    {
      "cell_type": "code",
      "source": [
        "max_consecutive_ones(arr)"
      ],
      "metadata": {
        "colab": {
          "base_uri": "https://localhost:8080/"
        },
        "id": "_1SpMCI3Mx2a",
        "outputId": "9bfb50bb-b52e-46ad-878f-cf7f3bd4431f"
      },
      "execution_count": 4,
      "outputs": [
        {
          "output_type": "execute_result",
          "data": {
            "text/plain": [
              "4"
            ]
          },
          "metadata": {},
          "execution_count": 4
        }
      ]
    },
    {
      "cell_type": "code",
      "source": [],
      "metadata": {
        "id": "229QFBRvM03q"
      },
      "execution_count": null,
      "outputs": []
    }
  ]
}