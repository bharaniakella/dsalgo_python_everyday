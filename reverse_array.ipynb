{
  "nbformat": 4,
  "nbformat_minor": 0,
  "metadata": {
    "colab": {
      "provenance": [],
      "authorship_tag": "ABX9TyM77D3ZGHPHHsObxAs/QAaf",
      "include_colab_link": true
    },
    "kernelspec": {
      "name": "python3",
      "display_name": "Python 3"
    },
    "language_info": {
      "name": "python"
    }
  },
  "cells": [
    {
      "cell_type": "markdown",
      "metadata": {
        "id": "view-in-github",
        "colab_type": "text"
      },
      "source": [
        "<a href=\"https://colab.research.google.com/github/bharaniakella/dsalgo_python_everyday/blob/main/reverse_array.ipynb\" target=\"_parent\"><img src=\"https://colab.research.google.com/assets/colab-badge.svg\" alt=\"Open In Colab\"/></a>"
      ]
    },
    {
      "cell_type": "code",
      "execution_count": 3,
      "metadata": {
        "id": "rSgC9NZwoaDY"
      },
      "outputs": [],
      "source": [
        "import numpy as np\n",
        "\n",
        "arr=np.array([1,2,3,4,5,6])\n",
        "\n",
        "def rev_arr(arr):\n",
        "  start=0\n",
        "  end=len(arr)-1\n",
        "  while(start<=end):\n",
        "    temp=arr[start]\n",
        "    arr[start]=arr[end]\n",
        "    arr[end]=temp\n",
        "    start=start+1\n",
        "    end=end-1\n",
        "  return arr"
      ]
    },
    {
      "cell_type": "code",
      "source": [
        "rev_arr(arr)"
      ],
      "metadata": {
        "colab": {
          "base_uri": "https://localhost:8080/"
        },
        "id": "g9IVRdNcoyJi",
        "outputId": "a605d892-517e-413d-a1e6-d72601580c83"
      },
      "execution_count": 4,
      "outputs": [
        {
          "output_type": "execute_result",
          "data": {
            "text/plain": [
              "array([6, 5, 4, 3, 2, 1])"
            ]
          },
          "metadata": {},
          "execution_count": 4
        }
      ]
    },
    {
      "cell_type": "code",
      "source": [],
      "metadata": {
        "id": "4TK5Ec_rozzT"
      },
      "execution_count": null,
      "outputs": []
    }
  ]
}