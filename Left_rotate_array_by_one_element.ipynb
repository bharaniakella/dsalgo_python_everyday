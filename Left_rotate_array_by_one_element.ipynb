{
  "nbformat": 4,
  "nbformat_minor": 0,
  "metadata": {
    "colab": {
      "provenance": [],
      "authorship_tag": "ABX9TyM96h3fyThERNfqalOpZEOb",
      "include_colab_link": true
    },
    "kernelspec": {
      "name": "python3",
      "display_name": "Python 3"
    },
    "language_info": {
      "name": "python"
    }
  },
  "cells": [
    {
      "cell_type": "markdown",
      "metadata": {
        "id": "view-in-github",
        "colab_type": "text"
      },
      "source": [
        "<a href=\"https://colab.research.google.com/github/bharaniakella/dsalgo_python_everyday/blob/main/Left_rotate_array_by_one_element.ipynb\" target=\"_parent\"><img src=\"https://colab.research.google.com/assets/colab-badge.svg\" alt=\"Open In Colab\"/></a>"
      ]
    },
    {
      "cell_type": "code",
      "execution_count": 1,
      "metadata": {
        "id": "JxLryOwRzRK2"
      },
      "outputs": [],
      "source": [
        "import numpy as np\n",
        "arr=np.array([1,2,3,4,5])\n",
        "\n",
        "def left_rotate(arr):\n",
        "  for i in range(len(arr)-1):\n",
        "    temp=arr[i]\n",
        "    arr[i]=arr[i+1]\n",
        "    arr[i+1]=temp\n",
        "  return arr"
      ]
    },
    {
      "cell_type": "code",
      "source": [
        "left_rotate(arr)"
      ],
      "metadata": {
        "colab": {
          "base_uri": "https://localhost:8080/"
        },
        "id": "aJonhhjhzmdq",
        "outputId": "f430345f-644a-4d7f-ef5a-0f605a9214b1"
      },
      "execution_count": 2,
      "outputs": [
        {
          "output_type": "execute_result",
          "data": {
            "text/plain": [
              "array([2, 3, 4, 5, 1])"
            ]
          },
          "metadata": {},
          "execution_count": 2
        }
      ]
    },
    {
      "cell_type": "code",
      "source": [],
      "metadata": {
        "id": "cCzxnwuazowT"
      },
      "execution_count": null,
      "outputs": []
    }
  ]
}