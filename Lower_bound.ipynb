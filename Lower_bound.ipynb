{
  "nbformat": 4,
  "nbformat_minor": 0,
  "metadata": {
    "colab": {
      "provenance": [],
      "authorship_tag": "ABX9TyMRWU9PO9YpwRY7P5D8Uoq0",
      "include_colab_link": true
    },
    "kernelspec": {
      "name": "python3",
      "display_name": "Python 3"
    },
    "language_info": {
      "name": "python"
    }
  },
  "cells": [
    {
      "cell_type": "markdown",
      "metadata": {
        "id": "view-in-github",
        "colab_type": "text"
      },
      "source": [
        "<a href=\"https://colab.research.google.com/github/bharaniakella/dsalgo_python_everyday/blob/main/Lower_bound.ipynb\" target=\"_parent\"><img src=\"https://colab.research.google.com/assets/colab-badge.svg\" alt=\"Open In Colab\"/></a>"
      ]
    },
    {
      "cell_type": "code",
      "execution_count": 24,
      "metadata": {
        "id": "FyNERVM6z3ym"
      },
      "outputs": [],
      "source": [
        "import numpy as np\n",
        "\n",
        "arr=np.array([1,2,2,3])\n",
        "\n",
        "def lower_bound_binary_search(arr,target):\n",
        "  start=0\n",
        "  end=len(arr)-1\n",
        "  result=-1\n",
        "  while(start<=end):\n",
        "    mid=end-(end-start)//2\n",
        "    if(arr[mid]<target):\n",
        "      start=mid+1\n",
        "    else:\n",
        "      end=mid-1\n",
        "      result=mid\n",
        "  return result"
      ]
    },
    {
      "cell_type": "code",
      "source": [
        "lower_bound_binary_search(arr,2)"
      ],
      "metadata": {
        "colab": {
          "base_uri": "https://localhost:8080/"
        },
        "id": "ouE8WEJN3jjx",
        "outputId": "44d1c75b-13e7-427d-f3cd-5565174a6d82"
      },
      "execution_count": 26,
      "outputs": [
        {
          "output_type": "execute_result",
          "data": {
            "text/plain": [
              "1"
            ]
          },
          "metadata": {},
          "execution_count": 26
        }
      ]
    },
    {
      "cell_type": "code",
      "source": [],
      "metadata": {
        "id": "qbaRdNua4x08"
      },
      "execution_count": null,
      "outputs": []
    }
  ]
}