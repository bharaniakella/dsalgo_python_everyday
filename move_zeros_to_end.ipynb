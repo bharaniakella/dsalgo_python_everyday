{
  "nbformat": 4,
  "nbformat_minor": 0,
  "metadata": {
    "colab": {
      "provenance": [],
      "authorship_tag": "ABX9TyNwePDXij7QGPdM23I7ufJt",
      "include_colab_link": true
    },
    "kernelspec": {
      "name": "python3",
      "display_name": "Python 3"
    },
    "language_info": {
      "name": "python"
    }
  },
  "cells": [
    {
      "cell_type": "markdown",
      "metadata": {
        "id": "view-in-github",
        "colab_type": "text"
      },
      "source": [
        "<a href=\"https://colab.research.google.com/github/bharaniakella/dsalgo_python_everyday/blob/main/move_zeros_to_end.ipynb\" target=\"_parent\"><img src=\"https://colab.research.google.com/assets/colab-badge.svg\" alt=\"Open In Colab\"/></a>"
      ]
    },
    {
      "cell_type": "code",
      "execution_count": 3,
      "metadata": {
        "id": "tyYSSNUcEIWM"
      },
      "outputs": [],
      "source": [
        "import numpy as np\n",
        "\n",
        "arr=np.array([1,2,0,1,0,4,0])\n",
        "\n",
        "def move_zeros(arr):\n",
        "  zero=0\n",
        "  while(arr[zero]!=0):\n",
        "    zero=zero+1\n",
        "  for i in range(zero,len(arr)-1):\n",
        "    if((arr[i+1]!=0)):\n",
        "      temp=arr[i+1]\n",
        "      arr[i+1]=arr[zero]\n",
        "      arr[zero]=temp\n",
        "      zero=zero+1\n",
        "  return arr"
      ]
    },
    {
      "cell_type": "code",
      "source": [
        "move_zeros(arr)"
      ],
      "metadata": {
        "colab": {
          "base_uri": "https://localhost:8080/"
        },
        "id": "qid5f_QeJ3mx",
        "outputId": "b8c796d1-5d30-413e-daff-1b0081d6c084"
      },
      "execution_count": 4,
      "outputs": [
        {
          "output_type": "execute_result",
          "data": {
            "text/plain": [
              "array([1, 2, 1, 4, 0, 0, 0])"
            ]
          },
          "metadata": {},
          "execution_count": 4
        }
      ]
    },
    {
      "cell_type": "code",
      "source": [
        "1,2,0,1,0,4,0"
      ],
      "metadata": {
        "id": "VCyM-H_GJ6Uu"
      },
      "execution_count": null,
      "outputs": []
    }
  ]
}